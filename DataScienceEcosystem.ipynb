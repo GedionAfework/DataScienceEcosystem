{
  "metadata": {
    "kernelspec": {
      "name": "python",
      "display_name": "Python (Pyodide)",
      "language": "python"
    },
    "language_info": {
      "codemirror_mode": {
        "name": "python",
        "version": 3
      },
      "file_extension": ".py",
      "mimetype": "text/x-python",
      "name": "python",
      "nbconvert_exporter": "python",
      "pygments_lexer": "ipython3",
      "version": "3.8"
    }
  },
  "nbformat_minor": 5,
  "nbformat": 4,
  "cells": [
    {
      "id": "1a269ec5-c89c-4c61-94bf-0516d64c4bac",
      "cell_type": "markdown",
      "source": "<h1>Data Science Tools and Ecosystem</h1>",
      "metadata": {}
    },
    {
      "id": "ea70b5eb-2e5c-486a-8d3d-ff422497d2ca",
      "cell_type": "markdown",
      "source": "In this notebook, Data Science Tootls and Ecosystem are summarized.",
      "metadata": {}
    },
    {
      "id": "94b50866-9ef6-4019-9af6-0dbde29a26eb",
      "cell_type": "markdown",
      "source": "Some of the popular languages that Data Scientists use are:\n<ol>\n    <li>Python</li>\n    <li>R</li>\n    <li>SQL</li>\n</ol>",
      "metadata": {}
    },
    {
      "id": "288866fb-6359-4714-accf-58a6d26ca080",
      "cell_type": "markdown",
      "source": "Sole of the commonly used libraries used by Data Scientists include:\n<ol>\n    <li>Tensorflow</li>\n    <li>PyTorch</li>\n    <li>Matplotlib</li>\n    <li>Numpy</li>\n    <li>Pandas</li>\n</ol>",
      "metadata": {}
    },
    {
      "id": "d2b3fd03-1bfa-4334-b5dd-e3fb21a09ae5",
      "cell_type": "markdown",
      "source": "<table>\n    <tr>Data Science Tools</tr>\n    <tr>Jupyter Notebook</tr>\n    <tr>RStudio</tr>\n    <tr>Apache Zeppelin</tr>\n</table>",
      "metadata": {}
    },
    {
      "id": "8e428232-0470-40ca-820c-64207a31dbac",
      "cell_type": "markdown",
      "source": "<h3>Below are a few examples of evaluating arithmetic expressions in Python</h3>",
      "metadata": {}
    },
    {
      "id": "6933b813-5859-48a4-b154-c4513e1840f0",
      "cell_type": "code",
      "source": "#This a simple arithmetic expression to mutiply then add integers\n(3*4)+5",
      "metadata": {
        "trusted": true
      },
      "outputs": [
        {
          "execution_count": 2,
          "output_type": "execute_result",
          "data": {
            "text/plain": "17"
          },
          "metadata": {}
        }
      ],
      "execution_count": 2
    },
    {
      "id": "25fbef5b-de5f-4248-9db4-119b235fabe0",
      "cell_type": "code",
      "source": "#This will convert 200 minutes to hours by diving by 60\n200 / 60",
      "metadata": {
        "trusted": true
      },
      "outputs": [
        {
          "execution_count": 3,
          "output_type": "execute_result",
          "data": {
            "text/plain": "3.3333333333333335"
          },
          "metadata": {}
        }
      ],
      "execution_count": 3
    },
    {
      "id": "767efb02-e5d6-4d95-b578-3f00c30ec7ef",
      "cell_type": "markdown",
      "source": "<p><strong>Objectives:</strong></p>\n<ul>\n    <li>Python</li>\n    <li>R</li>\n    <li>Julia</li>\n    <li>SQL</li>\n    <li>MATLAB</li>\n</ul>",
      "metadata": {}
    },
    {
      "id": "ab8413fe-02da-4c69-bb26-9c9c82d10836",
      "cell_type": "markdown",
      "source": "<h2>Author:</h2>\n<p>Gedion Mekbeb Afework</p>",
      "metadata": {}
    },
    {
      "id": "c0e2b94e-e05c-4e3d-b6ad-491125a30cca",
      "cell_type": "code",
      "source": "",
      "metadata": {
        "trusted": true
      },
      "outputs": [],
      "execution_count": null
    }
  ]
}